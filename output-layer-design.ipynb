{
 "cells": [
  {
   "cell_type": "markdown",
   "metadata": {},
   "source": [
    "## 3.5 出力層の設計\n",
    "\n",
    "活性関数は問題に応じて以下の関数を使うことが多い。\n",
    "\n",
    "- 分類問題: ソフトマックス関数\n",
    "- 回帰問題: 恒等写像"
   ]
  },
  {
   "cell_type": "markdown",
   "metadata": {},
   "source": [
    "### 3.5.1 恒等写像とソフトマックス関数\n",
    "\n",
    "#### 恒等写像\n",
    "\n",
    "入力をそのまま出力する。\n",
    "\\begin{align*}\n",
    "{\\rm id}(x)=x\n",
    "\\end{align*}\n",
    "\n",
    "#### ソフトマックス関数\n",
    "\n",
    "\\begin{align*}\n",
    "y = \\dfrac{{\\rm exp}(a)}{\\sum^n_{i=1}{\\rm exp}(a_i)}\n",
    "\\end{align*}"
   ]
  },
  {
   "cell_type": "code",
   "execution_count": 1,
   "metadata": {
    "collapsed": false
   },
   "outputs": [
    {
     "name": "stdout",
     "output_type": "stream",
     "text": [
      "[  1.34985881  18.17414537  90.0171313 ]\n"
     ]
    }
   ],
   "source": [
    "import numpy as np\n",
    "a = np.array([0.3, 2.9, 4.5])\n",
    "# 指数(分子)\n",
    "exp_a = np.exp(a)\n",
    "print(exp_a)"
   ]
  },
  {
   "cell_type": "code",
   "execution_count": 2,
   "metadata": {
    "collapsed": false
   },
   "outputs": [
    {
     "name": "stdout",
     "output_type": "stream",
     "text": [
      "109.541135478\n"
     ]
    }
   ],
   "source": [
    "# 指数の総和(分母)\n",
    "sum_exp_a = np.sum(exp_a)\n",
    "print(sum_exp_a)"
   ]
  },
  {
   "cell_type": "code",
   "execution_count": 3,
   "metadata": {
    "collapsed": false
   },
   "outputs": [
    {
     "name": "stdout",
     "output_type": "stream",
     "text": [
      "[ 0.01232285  0.1659116   0.82176555]\n"
     ]
    }
   ],
   "source": [
    "# ソフトマックス関数値\n",
    "y = exp_a / sum_exp_a\n",
    "print(y)"
   ]
  },
  {
   "cell_type": "code",
   "execution_count": 4,
   "metadata": {
    "collapsed": false
   },
   "outputs": [
    {
     "name": "stdout",
     "output_type": "stream",
     "text": [
      "[ 0.01232285  0.1659116   0.82176555]\n"
     ]
    }
   ],
   "source": [
    "# ソフトマックス関数\n",
    "def softmax(a):\n",
    "    exp_a = np.exp(a)\n",
    "    sum_exp_a = np.sum(exp_a)\n",
    "    return exp_a / sum_exp_a\n",
    "\n",
    "a = np.array([0.3, 2.9, 4.5])\n",
    "print(softmax(a))"
   ]
  },
  {
   "cell_type": "markdown",
   "metadata": {},
   "source": [
    "### 3.5.2 ソフトマックス関数実装上の注意\n",
    "\n",
    "指数を扱うのですぐにオーバーフローしてしまう。\n",
    "\n",
    "#### 改良ソフトマックス関数\n",
    "\n",
    "\\begin{align*}\n",
    "y = \\dfrac{{\\rm exp}(a)}{\\sum_{i=1}^n{\\rm exp}(a_i)} \n",
    "&=& \\dfrac{C {\\rm exp}(a)}{C\\sum_{i=1}^n{\\rm exp}(a_i)} \\\\\n",
    "&=& \\dfrac{{\\rm exp}(a + \\log{C})}{\\sum_{i=1}^n{\\rm exp}(a_i + \\log{C})} \\\\\n",
    "&=& \\dfrac{C {\\rm exp}\\left(a + C' \\right)}{\\sum_{i=1}^n{\\rm exp} \\left(a_i + C' \\right)}\n",
    "\\end{align*}\n",
    "\n",
    "すなわち, ソフトマックス関数は指数関数の引数に対して任意の定数を足し引きしても結果は等しくなる。\n",
    "\n",
    "上記の性質を活かし, オーバーフロー対策として入力信号の中の最大値を減ずるような実装をするのが一般的。"
   ]
  },
  {
   "cell_type": "code",
   "execution_count": 5,
   "metadata": {
    "collapsed": false
   },
   "outputs": [
    {
     "name": "stderr",
     "output_type": "stream",
     "text": [
      "/home/nagomiso/.anyenv/envs/pyenv/versions/3.6.1/lib/python3.6/site-packages/ipykernel/__main__.py:3: RuntimeWarning: overflow encountered in exp\n",
      "  app.launch_new_instance()\n",
      "/home/nagomiso/.anyenv/envs/pyenv/versions/3.6.1/lib/python3.6/site-packages/ipykernel/__main__.py:5: RuntimeWarning: invalid value encountered in true_divide\n"
     ]
    },
    {
     "data": {
      "text/plain": [
       "array([ nan,  nan,  nan])"
      ]
     },
     "execution_count": 5,
     "metadata": {},
     "output_type": "execute_result"
    }
   ],
   "source": [
    "# オーバーフローしてしまうケース\n",
    "softmax(np.array([1010, 1000, 990]))"
   ]
  },
  {
   "cell_type": "code",
   "execution_count": 6,
   "metadata": {
    "collapsed": false
   },
   "outputs": [
    {
     "data": {
      "text/plain": [
       "array([  9.99954600e-01,   4.53978686e-05,   2.06106005e-09])"
      ]
     },
     "execution_count": 6,
     "metadata": {},
     "output_type": "execute_result"
    }
   ],
   "source": [
    "def enhanced_softmax(a):\n",
    "    c = np.max(a)\n",
    "    # オーバーフロー対策\n",
    "    exp_a = np.exp(a - c)\n",
    "    sum_exp_a = np.sum(exp_a)\n",
    "    return exp_a / sum_exp_a\n",
    "\n",
    "# ちゃんと計算できる\n",
    "enhanced_softmax(np.array([1010, 1000, 990]))"
   ]
  },
  {
   "cell_type": "code",
   "execution_count": 7,
   "metadata": {
    "collapsed": false
   },
   "outputs": [
    {
     "name": "stdout",
     "output_type": "stream",
     "text": [
      "[ 0.01232285  0.1659116   0.82176555]\n",
      "[ 0.01232285  0.1659116   0.82176555]\n"
     ]
    }
   ],
   "source": [
    "# 値は改善前と同じ\n",
    "a = np.array([0.3, 2.9, 4.5])\n",
    "print(softmax(a))\n",
    "print(enhanced_softmax(a))"
   ]
  },
  {
   "cell_type": "markdown",
   "metadata": {},
   "source": [
    "### 3.5.3 ソフトマックス関数の特徴\n",
    "\n",
    "\\begin{align*}\n",
    "{\\rm softmax}: \\mathbb{R}\\rightarrow [0, 1]\n",
    "\\end{align*}\n",
    "\n",
    "$[0, 1]$ にマッピングできるかつ, ソフトマックス関数の出力の総和は $1$ になる。\n",
    "ゆえに, ソフトマックス関数の出力は確率として解釈できる。"
   ]
  },
  {
   "cell_type": "code",
   "execution_count": 8,
   "metadata": {
    "collapsed": false
   },
   "outputs": [
    {
     "data": {
      "text/plain": [
       "array([ 0.01821127,  0.24519181,  0.73659691])"
      ]
     },
     "execution_count": 8,
     "metadata": {},
     "output_type": "execute_result"
    }
   ],
   "source": [
    "a = np.array([0.3, 2.9, 4.0])\n",
    "y = softmax(a)\n",
    "\n",
    "# [0,1] にマッピングできる\n",
    "y"
   ]
  },
  {
   "cell_type": "code",
   "execution_count": 9,
   "metadata": {
    "collapsed": false
   },
   "outputs": [
    {
     "data": {
      "text/plain": [
       "1.0"
      ]
     },
     "execution_count": 9,
     "metadata": {},
     "output_type": "execute_result"
    }
   ],
   "source": [
    "# 総和が 1 になる\n",
    "np.sum(y)"
   ]
  },
  {
   "cell_type": "markdown",
   "metadata": {},
   "source": [
    "各値がクラスに属する確率を意味すると解釈できる。\n",
    "\n",
    "指数関数は単調関数なので, 入力信号同士の大小関係は変化しない。\n",
    "ゆえに計算コスト削減のためにクラス分類における出力層では, ソフトマックス関数を適用しないことが多い。"
   ]
  },
  {
   "cell_type": "markdown",
   "metadata": {},
   "source": [
    "### 3.5.4 出力層のニューロン数\n",
    "\n",
    "クラス分類ならば出力層のニューロン数はクラス数分にすることが多い。"
   ]
  }
 ],
 "metadata": {
  "kernelspec": {
   "display_name": "Python 3",
   "language": "python",
   "name": "python3"
  },
  "language_info": {
   "codemirror_mode": {
    "name": "ipython",
    "version": 3
   },
   "file_extension": ".py",
   "mimetype": "text/x-python",
   "name": "python",
   "nbconvert_exporter": "python",
   "pygments_lexer": "ipython3",
   "version": "3.6.1"
  }
 },
 "nbformat": 4,
 "nbformat_minor": 2
}
