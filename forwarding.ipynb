{
 "cells": [
  {
   "cell_type": "markdown",
   "metadata": {
    "deletable": true,
    "editable": true
   },
   "source": [
    "## 3.4 3層ニューラルネットワークの実装"
   ]
  },
  {
   "cell_type": "markdown",
   "metadata": {
    "deletable": true,
    "editable": true
   },
   "source": [
    "1層目のニューロン $x_1$ から $a_1^{(1)}$ への伝播は次式で表される。\n",
    "（重みと入力値の総和にバイアス値を足したもの）\n",
    "\n",
    "\\begin{align}\n",
    "a_1^{(1)} = b_1^{(1)} + \\sum_{n=1}^{N} w_{1n}^{(1)}x_n\n",
    "\\end{align}\n",
    "\n",
    "線形変換を用いて表現すると1層目の伝播は次式のようになる。\n",
    "\n",
    "\\begin{align}\n",
    "{\\bf A}^{(1)} = {\\bf x}{\\bf W}^{(1)} + {\\bf B}^{(1)}\n",
    "\\end{align}"
   ]
  },
  {
   "cell_type": "code",
   "execution_count": 1,
   "metadata": {
    "collapsed": false,
    "deletable": true,
    "editable": true
   },
   "outputs": [
    {
     "name": "stdout",
     "output_type": "stream",
     "text": [
      "[ 0.3  0.7  1.1]\n"
     ]
    }
   ],
   "source": [
    "# numpy を使って実装する\n",
    "import numpy as np\n",
    "# 入力ベクトル\n",
    "x  = np.array([1.0, 0.5])\n",
    "# 重み行列\n",
    "W1 = np.array([[0.1, 0.3, 0.5],\n",
    "               [0.2, 0.4, 0.6]])\n",
    "# バイアスベクトル\n",
    "B1 = np.array([0.1, 0.2, 0.3])\n",
    "# 第1層の出力ベクトル\n",
    "A1 = np.dot(x, W1) + B1\n",
    "print(A1)"
   ]
  },
  {
   "cell_type": "code",
   "execution_count": 2,
   "metadata": {
    "collapsed": false,
    "deletable": true,
    "editable": true
   },
   "outputs": [
    {
     "name": "stdout",
     "output_type": "stream",
     "text": [
      "### 変換前 ###\n",
      "[ 0.3  0.7  1.1]\n",
      "### 変換後 ###\n",
      "[ 0.57444252  0.66818777  0.75026011]\n"
     ]
    }
   ],
   "source": [
    "def sigmoid(x):\n",
    "    return 1.0 / (1.0 + np.exp(-x))\n",
    "\n",
    "# 第1層の出力ベクトル(活性化関数: シグモイド)\n",
    "Z1 = sigmoid(A1)\n",
    "\n",
    "print('### 変換前 ###')\n",
    "print(A1)\n",
    "print('### 変換後 ###')\n",
    "print(Z1)"
   ]
  },
  {
   "cell_type": "code",
   "execution_count": 3,
   "metadata": {
    "collapsed": false,
    "deletable": true,
    "editable": true
   },
   "outputs": [
    {
     "name": "stdout",
     "output_type": "stream",
     "text": [
      "### 変換前 ###\n",
      "[ 0.51615984  1.21402696]\n",
      "### 変換後 ###\n",
      "[ 0.62624937  0.7710107 ]\n"
     ]
    }
   ],
   "source": [
    "# 1層目 -> 2層目\n",
    "# 1層目のノード数は3, 2層目のノード数は2なので\n",
    "# 重み行列は 3 x 2\n",
    "W2 = np.array([[0.1, 0.4],\n",
    "               [0.2, 0.5],\n",
    "               [0.3, 0.6]])\n",
    "# バイアスベクトル\n",
    "B2 = np.array([0.1, 0.2])\n",
    "# 第2層の出力ベクトル\n",
    "A2 = np.dot(Z1, W2) + B2\n",
    "# 第2層の出力ベクトル(変換後)\n",
    "Z2 = sigmoid(A2)\n",
    "\n",
    "print('### 変換前 ###')\n",
    "print(A2)\n",
    "print('### 変換後 ###')\n",
    "print(Z2)"
   ]
  },
  {
   "cell_type": "code",
   "execution_count": 4,
   "metadata": {
    "collapsed": false,
    "deletable": true,
    "editable": true
   },
   "outputs": [
    {
     "name": "stdout",
     "output_type": "stream",
     "text": [
      "[ 0.31682708  0.69627909]\n"
     ]
    }
   ],
   "source": [
    "# 2層目 -> 出力層\n",
    "# 活性化関数: 恒等写像\n",
    "def identity_function(x):\n",
    "    return x\n",
    "\n",
    "# 重みベクトル\n",
    "W3 = np.array([[0.1, 0.3],\n",
    "               [0.2, 0.4]])\n",
    "# バイアスベクトル\n",
    "B3 = np.array([0.1, 0.2])\n",
    "\n",
    "A3 = np.dot(Z2, W3) + B3\n",
    "# 出力層\n",
    "Y  = identity_function(A3)\n",
    "print(Y)"
   ]
  },
  {
   "cell_type": "code",
   "execution_count": 5,
   "metadata": {
    "collapsed": false,
    "deletable": true,
    "editable": true
   },
   "outputs": [
    {
     "name": "stdout",
     "output_type": "stream",
     "text": [
      "[ 0.31682708  0.69627909]\n"
     ]
    }
   ],
   "source": [
    "# 実装まとめ\n",
    "def init_networt():\n",
    "    return {\n",
    "        'W1': np.array([[0.1, 0.3, 0.5],\n",
    "                        [0.2, 0.4, 0.6]]),\n",
    "        'b1': np.array([0.1, 0.2, 0.3]),\n",
    "        'W2': np.array([[0.1, 0.4],\n",
    "                        [0.2, 0.5],\n",
    "                        [0.3, 0.6]]),\n",
    "        'b2': np.array([0.1, 0.2]),\n",
    "        'W3': np.array([[0.1, 0.3],\n",
    "                        [0.2, 0.4]]),\n",
    "        'b3': np.array([0.1, 0.2])\n",
    "    }\n",
    "\n",
    "def forward(network, input_vector):\n",
    "    W1 = network['W1']\n",
    "    W2 = network['W2']\n",
    "    W3 = network['W3']\n",
    "    b1 = network['b1']\n",
    "    b2 = network['b2']\n",
    "    b3 = network['b3']\n",
    "    \n",
    "    z1 = sigmoid(np.dot(x , W1) + b1)\n",
    "    z2 = sigmoid(np.dot(z1, W2) + b2)\n",
    "    \n",
    "    return identity_function(np.dot(z2, W3) + b3)\n",
    "\n",
    "network = init_networt()\n",
    "input_vector  = np.array([1.0, 0.5])\n",
    "output_vector = forward(network, input_vector)\n",
    "print(output_vector)"
   ]
  }
 ],
 "metadata": {
  "kernelspec": {
   "display_name": "Python 3",
   "language": "python",
   "name": "python3"
  },
  "language_info": {
   "codemirror_mode": {
    "name": "ipython",
    "version": 3
   },
   "file_extension": ".py",
   "mimetype": "text/x-python",
   "name": "python",
   "nbconvert_exporter": "python",
   "pygments_lexer": "ipython3",
   "version": "3.6.1"
  }
 },
 "nbformat": 4,
 "nbformat_minor": 2
}
